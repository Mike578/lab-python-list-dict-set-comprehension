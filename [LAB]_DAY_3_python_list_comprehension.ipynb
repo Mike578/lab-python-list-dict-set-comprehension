{
  "cells": [
    {
      "cell_type": "markdown",
      "id": "25d7736c-ba17-4aff-b6bb-66eba20fbf4e",
      "metadata": {
        "id": "25d7736c-ba17-4aff-b6bb-66eba20fbf4e"
      },
      "source": [
        "# Lab | List, Dict and Set Comprehension"
      ]
    },
    {
      "cell_type": "markdown",
      "id": "7dd3cbde-675a-4b81-92c3-f728846dbe06",
      "metadata": {
        "id": "7dd3cbde-675a-4b81-92c3-f728846dbe06"
      },
      "source": [
        "## Exercise: Managing Customer Orders Optimized with Comprehension"
      ]
    },
    {
      "cell_type": "markdown",
      "id": "5d500160-2fb7-4777-b5e4-09d45ebaf328",
      "metadata": {
        "id": "5d500160-2fb7-4777-b5e4-09d45ebaf328"
      },
      "source": [
        "In the previous exercise, you developed a program to manage customer orders and inventory. Now, let's take it a step further and incorporate comprehension into your code.\n",
        "\n",
        "Follow the steps below to complete the exercise:\n",
        "\n",
        "1. Review your code from the previous exercise and identify areas where you can apply comprehension to simplify and streamline your code.\n",
        "\n",
        "    - *Hint: Apply it to initialize inventory, updating the inventory and printing the updated inventory.*\n",
        "    \n",
        "    - For example, in initializing the inventory, we could have:\n",
        "    \n",
        "        ```python\n",
        "        def initialize_inventory(products):\n",
        "            inventory = {product: int(input(f\"Enter the quantity of {product}s available: \")) for product in products}\n",
        "            return inventory\n",
        "\n",
        "        ```\n",
        "<br>\n",
        "    \n",
        "    \n",
        "2. Modify the function get_customer_orders so it prompts the user to enter the number of customer orders and gathers the product names using a loop and user input. Use comprehension.\n",
        "\n",
        "3. Add a new function to calculate the total price of the customer order. For each product in customer_orders, prompt the user to enter the price of that product. Use comprehension to calculate the total price. Note: assume that the user can only have 1 unit of each product.\n",
        "\n",
        "4. Modify the update_inventory function to remove the product from the inventory if its quantity becomes zero after fulfilling the customer orders. Use comprehension to filter out the products with a quantity of zero from the inventory.\n",
        "\n",
        "5. Print the total price of the customer order.\n",
        "\n",
        "Your code should produce output similar to the following:\n",
        "\n",
        "```python\n",
        "Enter the quantity of t-shirts available:  5\n",
        "Enter the quantity of mugs available:  4\n",
        "Enter the quantity of hats available:  3\n",
        "Enter the quantity of books available:  2\n",
        "Enter the quantity of keychains available:  1\n",
        "Enter the number of customer orders:  2\n",
        "Enter the name of a product that a customer wants to order:  hat\n",
        "Enter the name of a product that a customer wants to order:  keychain\n",
        "\n",
        "Order Statistics:\n",
        "Total Products Ordered: 2\n",
        "Percentage of Unique Products Ordered: 40.0\n",
        "\n",
        "Updated Inventory:\n",
        "t-shirt: 5\n",
        "mug: 4\n",
        "hat: 2\n",
        "book: 2\n",
        "Enter the price of keychain:  5\n",
        "Enter the price of hat:  10\n",
        "Total Price: 15.0\n",
        "\n",
        "```\n"
      ]
    },
    {
      "cell_type": "code",
      "source": [
        "# Define products\n",
        "products = [\"t-shirt\", \"mug\", \"hat\", \"book\", \"keychain\"]"
      ],
      "metadata": {
        "id": "6b75CCztKbXN"
      },
      "id": "6b75CCztKbXN",
      "execution_count": 8,
      "outputs": []
    },
    {
      "cell_type": "code",
      "source": [
        "# 1. Initialize inventory\n",
        "\n",
        "def initialize_inventory(products):\n",
        "    inventory = {product: int(input(f\"Enter the quantity of {product}s available: \")) for product in products}\n",
        "    return inventory\n",
        "\n",
        "inventory = initialize_inventory(products)"
      ],
      "metadata": {
        "colab": {
          "base_uri": "https://localhost:8080/"
        },
        "id": "l3g7D6E8KbUp",
        "outputId": "47c32182-6cff-4cd3-cd11-4e3b32269ad3"
      },
      "id": "l3g7D6E8KbUp",
      "execution_count": 9,
      "outputs": [
        {
          "name": "stdout",
          "output_type": "stream",
          "text": [
            "Enter the quantity of t-shirts available: 5\n",
            "Enter the quantity of mugs available: 10\n",
            "Enter the quantity of hats available: 15\n",
            "Enter the quantity of books available: 20\n",
            "Enter the quantity of keychains available: 25\n"
          ]
        }
      ]
    },
    {
      "cell_type": "code",
      "source": [
        "# 2. Get customer orders\n",
        "\n",
        "def get_customer_orders():\n",
        "    num_orders = int(input(\"Enter the number of customer orders: \"))\n",
        "    customer_orders = [input(\"Enter the name of a product that a customer wants to order: \") for _ in range(num_orders)]\n",
        "    return customer_orders\n",
        "\n",
        "customer_orders = get_customer_orders()"
      ],
      "metadata": {
        "colab": {
          "base_uri": "https://localhost:8080/"
        },
        "id": "4AJoaJJwKbRB",
        "outputId": "f3758c72-4417-484f-dedb-e2c5f951b669"
      },
      "id": "4AJoaJJwKbRB",
      "execution_count": 10,
      "outputs": [
        {
          "name": "stdout",
          "output_type": "stream",
          "text": [
            "Enter the number of customer orders: 2\n",
            "Enter the name of a product that a customer wants to order: hat\n",
            "Enter the name of a product that a customer wants to order: mug\n"
          ]
        }
      ]
    },
    {
      "cell_type": "code",
      "source": [
        "# 3. Calculate total price\n",
        "\n",
        "def calculate_total_price(customer_orders):\n",
        "    total_price = sum(float(input(f\"Enter the price of {product}: \")) for product in customer_orders)\n",
        "    return total_price\n",
        "\n",
        "total_price = calculate_total_price(customer_orders)"
      ],
      "metadata": {
        "colab": {
          "base_uri": "https://localhost:8080/"
        },
        "id": "EpwtGxQBKbF2",
        "outputId": "f234e5f9-2dad-4e9e-9b85-cff1b1380d1a"
      },
      "id": "EpwtGxQBKbF2",
      "execution_count": 11,
      "outputs": [
        {
          "name": "stdout",
          "output_type": "stream",
          "text": [
            "Enter the price of hat: 5\n",
            "Enter the price of mug: 12\n"
          ]
        }
      ]
    },
    {
      "cell_type": "code",
      "source": [
        "# 4. Update inventory\n",
        "\n",
        "def update_inventory(customer_orders, inventory):\n",
        "    for product in customer_orders:\n",
        "        inventory[product] -= 1\n",
        "    inventory = {product: quantity for product, quantity in inventory.items() if quantity > 0}\n",
        "    return inventory\n",
        "\n",
        "inventory = update_inventory(customer_orders, inventory)\n",
        "\n",
        "# Print order statistics\n",
        "print(\"Order Statistics:\")\n",
        "print(f\"Total Products Ordered: {len(customer_orders)}\")\n",
        "print(f\"Percentage of Unique Products Ordered: {len(set(customer_orders)) / len(customer_orders) * 100}%\\n\")\n",
        "\n",
        "# Print updated inventory\n",
        "print(\"Updated Inventory:\")\n",
        "for product, quantity in inventory.items():\n",
        "    print(f\"{product}: {quantity}\")\n",
        "\n",
        "# Print total price\n",
        "print(f\"Total Price: {total_price}\")"
      ],
      "metadata": {
        "colab": {
          "base_uri": "https://localhost:8080/"
        },
        "id": "RpLuGHb7K9Fn",
        "outputId": "1024d1a6-83d3-40f4-9077-79ed59eb4eab"
      },
      "id": "RpLuGHb7K9Fn",
      "execution_count": 12,
      "outputs": [
        {
          "output_type": "stream",
          "name": "stdout",
          "text": [
            "Order Statistics:\n",
            "Total Products Ordered: 2\n",
            "Percentage of Unique Products Ordered: 100.0%\n",
            "\n",
            "Updated Inventory:\n",
            "t-shirt: 5\n",
            "mug: 9\n",
            "hat: 14\n",
            "book: 20\n",
            "keychain: 25\n",
            "Total Price: 17.0\n"
          ]
        }
      ]
    }
  ],
  "metadata": {
    "kernelspec": {
      "display_name": "Python 3 (ipykernel)",
      "language": "python",
      "name": "python3"
    },
    "language_info": {
      "codemirror_mode": {
        "name": "ipython",
        "version": 3
      },
      "file_extension": ".py",
      "mimetype": "text/x-python",
      "name": "python",
      "nbconvert_exporter": "python",
      "pygments_lexer": "ipython3",
      "version": "3.9.13"
    },
    "colab": {
      "provenance": []
    }
  },
  "nbformat": 4,
  "nbformat_minor": 5
}